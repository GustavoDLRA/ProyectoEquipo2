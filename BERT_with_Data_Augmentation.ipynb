{
  "nbformat": 4,
  "nbformat_minor": 0,
  "metadata": {
    "colab": {
      "name": "BERT_with_Data_Augmentation.ipynb",
      "provenance": []
    },
    "kernelspec": {
      "name": "python3",
      "display_name": "Python 3"
    },
    "language_info": {
      "name": "python"
    },
    "accelerator": "GPU"
  },
  "cells": [
    {
      "cell_type": "markdown",
      "metadata": {
        "id": "4UWO8PQFZlet"
      },
      "source": [
        "# **Modulo de Clasificación de texto con BERT.**\n",
        "### Usando Tensorflow.\n"
      ]
    },
    {
      "cell_type": "markdown",
      "metadata": {
        "id": "hCfRTXA0ZsjK"
      },
      "source": [
        "## Pasos iniciales. \n",
        "### Instalación de bibliotecas y recursos necesarios para ejecutar **BERT**."
      ]
    },
    {
      "cell_type": "markdown",
      "metadata": {
        "id": "j0BKHX48aqCR"
      },
      "source": [
        "Para esta implementación estaremos utilizando esta dependencia para el preprocesamiento de los inputs de BERT. "
      ]
    },
    {
      "cell_type": "code",
      "metadata": {
        "id": "fNB3NtBJan0h"
      },
      "source": [
        "!pip install -q -U tensorflow-text"
      ],
      "execution_count": 1,
      "outputs": []
    },
    {
      "cell_type": "code",
      "metadata": {
        "id": "QeCdXfTIbvIy"
      },
      "source": [
        "!pip install -q tf-models-official"
      ],
      "execution_count": 2,
      "outputs": []
    },
    {
      "cell_type": "markdown",
      "metadata": {
        "id": "0wH5c9o-ceA1"
      },
      "source": [
        "Bibliotecas adicionales "
      ]
    },
    {
      "cell_type": "code",
      "metadata": {
        "id": "nCTjvjCfb06z"
      },
      "source": [
        "import os\n",
        "import shutil\n",
        "\n",
        "import tensorflow as tf\n",
        "import tensorflow_hub as hub\n",
        "import tensorflow_text as text\n",
        "from official.nlp import optimization  # to create AdamW optimizer\n",
        "\n",
        "import matplotlib.pyplot as plt\n",
        "\n",
        "tf.get_logger().setLevel('ERROR')"
      ],
      "execution_count": 3,
      "outputs": []
    },
    {
      "cell_type": "code",
      "metadata": {
        "id": "j9knWBJDdP1k"
      },
      "source": [
        "import torch\n",
        "import numpy as np\n",
        "import pandas as pd\n",
        "import seaborn as sns\n",
        "from pylab import rcParams\n",
        "import matplotlib.pyplot as plt\n",
        "from matplotlib import rc\n",
        "from sklearn.model_selection import train_test_split\n",
        "from sklearn.metrics import confusion_matrix, classification_report\n",
        "from collections import defaultdict\n",
        "from textwrap import wrap\n",
        "from torch import nn, optim\n",
        "from torch.utils.data import Dataset, DataLoader\n",
        "import os \n",
        "import re\n",
        "from tqdm import tqdm \n",
        "%matplotlib inline"
      ],
      "execution_count": 4,
      "outputs": []
    },
    {
      "cell_type": "markdown",
      "metadata": {
        "id": "eejsebemc-aj"
      },
      "source": [
        "Comenzamos a importar el Dataset. "
      ]
    },
    {
      "cell_type": "code",
      "metadata": {
        "colab": {
          "base_uri": "https://localhost:8080/"
        },
        "id": "QXIVu_45cb7U",
        "outputId": "84c8ea0d-87d0-4992-ecfe-1ccf9fb15dde"
      },
      "source": [
        "from google.colab import drive\n",
        "drive.mount('/content/drive')\n",
        "%cd 'drive/MyDrive/DepresionDetection'"
      ],
      "execution_count": 1,
      "outputs": [
        {
          "output_type": "stream",
          "text": [
            "Mounted at /content/drive\n",
            "/content/drive/.shortcut-targets-by-id/1f7iqqmGVeLMWsZp_4v4rY02mGnyxDVS6/DepresionDetection\n"
          ],
          "name": "stdout"
        }
      ]
    },
    {
      "cell_type": "code",
      "metadata": {
        "colab": {
          "base_uri": "https://localhost:8080/",
          "height": 204
        },
        "id": "YatTk4yXd6C3",
        "outputId": "9e601a7c-56fe-4a65-dd05-168d08514461"
      },
      "source": [
        "og_train_data = pd.read_csv('trans_text_train_BERT.csv')\n",
        "og_test_data = pd.read_csv('trans_text_test_BERT.csv')\n",
        "\n",
        "og_train_data = og_train_data.drop(['wav_file'], axis=1)\n",
        "og_test_data = og_test_data.drop(['wav_file'], axis=1)\n",
        "\n",
        "df = og_train_data.append(og_test_data, ignore_index = True)\n",
        "\n",
        "df.head()"
      ],
      "execution_count": 6,
      "outputs": [
        {
          "output_type": "execute_result",
          "data": {
            "text/html": [
              "<div>\n",
              "<style scoped>\n",
              "    .dataframe tbody tr th:only-of-type {\n",
              "        vertical-align: middle;\n",
              "    }\n",
              "\n",
              "    .dataframe tbody tr th {\n",
              "        vertical-align: top;\n",
              "    }\n",
              "\n",
              "    .dataframe thead th {\n",
              "        text-align: right;\n",
              "    }\n",
              "</style>\n",
              "<table border=\"1\" class=\"dataframe\">\n",
              "  <thead>\n",
              "    <tr style=\"text-align: right;\">\n",
              "      <th></th>\n",
              "      <th>label</th>\n",
              "      <th>transcription</th>\n",
              "    </tr>\n",
              "  </thead>\n",
              "  <tbody>\n",
              "    <tr>\n",
              "      <th>0</th>\n",
              "      <td>2</td>\n",
              "      <td>we were very much younger then .</td>\n",
              "    </tr>\n",
              "    <tr>\n",
              "      <th>1</th>\n",
              "      <td>0</td>\n",
              "      <td>goddamn it augie don t ask me that . i hate it...</td>\n",
              "    </tr>\n",
              "    <tr>\n",
              "      <th>2</th>\n",
              "      <td>0</td>\n",
              "      <td>i would like to talk to your supervisor . obvi...</td>\n",
              "    </tr>\n",
              "    <tr>\n",
              "      <th>3</th>\n",
              "      <td>1</td>\n",
              "      <td>why didn t you let me know ?</td>\n",
              "    </tr>\n",
              "    <tr>\n",
              "      <th>4</th>\n",
              "      <td>3</td>\n",
              "      <td>i know .</td>\n",
              "    </tr>\n",
              "  </tbody>\n",
              "</table>\n",
              "</div>"
            ],
            "text/plain": [
              "   label                                      transcription\n",
              "0      2                   we were very much younger then .\n",
              "1      0  goddamn it augie don t ask me that . i hate it...\n",
              "2      0  i would like to talk to your supervisor . obvi...\n",
              "3      1                       why didn t you let me know ?\n",
              "4      3                                           i know ."
            ]
          },
          "metadata": {
            "tags": []
          },
          "execution_count": 6
        }
      ]
    },
    {
      "cell_type": "code",
      "metadata": {
        "colab": {
          "base_uri": "https://localhost:8080/"
        },
        "id": "f2hjfZxMd-Fc",
        "outputId": "bb538217-57c8-4db1-e635-7de005afba0e"
      },
      "source": [
        "emo_dict  = { \n",
        "  0: 'ang',\n",
        "  1: 'hap',\n",
        "  2: 'exc', \n",
        "  3: 'sad', \n",
        "  4: 'fru', \n",
        "  5: 'fea',\n",
        "  6: 'sur',\n",
        "  7: 'neu'\n",
        "}\n",
        "view_data = df.replace({'label': emo_dict})\n",
        "view_data['label'].value_counts()"
      ],
      "execution_count": 7,
      "outputs": [
        {
          "output_type": "execute_result",
          "data": {
            "text/plain": [
              "fru    1847\n",
              "neu    1708\n",
              "ang    1101\n",
              "sad    1084\n",
              "exc    1041\n",
              "hap     595\n",
              "sur     107\n",
              "fea      40\n",
              "Name: label, dtype: int64"
            ]
          },
          "metadata": {
            "tags": []
          },
          "execution_count": 7
        }
      ]
    },
    {
      "cell_type": "code",
      "metadata": {
        "id": "B1ydp8ZLeA3B"
      },
      "source": [
        "def plot_data(_data,_bins,_title,_xlabel,_ylabel):\n",
        "  TOTAL = 7523\n",
        "  plt.figure(figsize=(20,10))\n",
        "  arr = plt.hist(_data, bins=_bins, edgecolor='black', alpha=0.5, align='mid')\n",
        "  for i in range(_bins):\n",
        "    count = int(arr[0][i])\n",
        "    if count != 0:\n",
        "      plt.text(arr[1][i] + 0.1, arr[0][i], str(count), fontsize=15, rotation=-45)\n",
        "  plt.xlabel(_xlabel, fontsize=15)\n",
        "  plt.ylabel(_ylabel, fontsize=15)\n",
        "  plt.title(_title, fontsize=20, pad=40)\n",
        "  plt.grid(False)\n",
        "  plt.show()"
      ],
      "execution_count": 8,
      "outputs": []
    },
    {
      "cell_type": "code",
      "metadata": {
        "colab": {
          "base_uri": "https://localhost:8080/",
          "height": 665
        },
        "id": "H7dDDI1veDeY",
        "outputId": "e60e9a40-36ff-4457-d001-8acac7ec2321"
      },
      "source": [
        "plot_data(view_data.label, 16, \"Original Emotions\", \"Emotions\", \"Count\")"
      ],
      "execution_count": 9,
      "outputs": [
        {
          "output_type": "display_data",
          "data": {
            "image/png": "[encoded data removed]",
            "text/plain": [
              "<Figure size 1440x720 with 1 Axes>"
            ]
          },
          "metadata": {
            "tags": [],
            "needs_background": "light"
          }
        }
      ]
    },
    {
      "cell_type": "code",
      "metadata": {
        "colab": {
          "base_uri": "https://localhost:8080/"
        },
        "id": "lQxt8KrceGNw",
        "outputId": "d5842cb7-e33a-4ee4-fdea-0a6bf4f883dc"
      },
      "source": [
        "# Procedemos a condensar las partes relevantes del dataset. \n",
        "emo_dict_2  = { \n",
        "  0: 'neg',\n",
        "  1: 'pos',\n",
        "  2: 'pos', \n",
        "  3: 'neg', \n",
        "  4: 'neg', \n",
        "  5: 'neg',\n",
        "  6: 'pos',\n",
        "  7: 'pos'\n",
        "}\n",
        "view_data2 = df.replace({'label': emo_dict_2})\n",
        "view_data2['label'].value_counts()"
      ],
      "execution_count": 10,
      "outputs": [
        {
          "output_type": "execute_result",
          "data": {
            "text/plain": [
              "neg    4072\n",
              "pos    3451\n",
              "Name: label, dtype: int64"
            ]
          },
          "metadata": {
            "tags": []
          },
          "execution_count": 10
        }
      ]
    },
    {
      "cell_type": "code",
      "metadata": {
        "colab": {
          "base_uri": "https://localhost:8080/",
          "height": 665
        },
        "id": "HoR9bFDTeKxc",
        "outputId": "c5ad478c-2ed9-45d7-ab0a-1bd25d5a7dcb"
      },
      "source": [
        "plot_data(view_data2.label, 4, \"Condensed emotions\", \"Positive: exc, hap, sur. // Negative: ang, sad, fru, fear\", \"Count\")"
      ],
      "execution_count": 11,
      "outputs": [
        {
          "output_type": "display_data",
          "data": {
            "image/png": "[encoded data removed]",
            "text/plain": [
              "<Figure size 1440x720 with 1 Axes>"
            ]
          },
          "metadata": {
            "tags": [],
            "needs_background": "light"
          }
        }
      ]
    },
    {
      "cell_type": "code",
      "metadata": {
        "id": "nmcTgcrQeMyw"
      },
      "source": [
        "df_clean = view_data2.replace(to_replace =\"neg\",\n",
        "                 value =0)"
      ],
      "execution_count": 12,
      "outputs": []
    },
    {
      "cell_type": "code",
      "metadata": {
        "id": "RmDOlQO2eO14"
      },
      "source": [
        "df_clean2 = df_clean.replace(to_replace =\"pos\",\n",
        "                 value =1)"
      ],
      "execution_count": 13,
      "outputs": []
    },
    {
      "cell_type": "code",
      "metadata": {
        "colab": {
          "base_uri": "https://localhost:8080/",
          "height": 204
        },
        "id": "BkIUZKVkeesj",
        "outputId": "dd4212ed-142f-4ac6-bc3f-e4f3435f7e24"
      },
      "source": [
        "df_clean2.head()"
      ],
      "execution_count": 14,
      "outputs": [
        {
          "output_type": "execute_result",
          "data": {
            "text/html": [
              "<div>\n",
              "<style scoped>\n",
              "    .dataframe tbody tr th:only-of-type {\n",
              "        vertical-align: middle;\n",
              "    }\n",
              "\n",
              "    .dataframe tbody tr th {\n",
              "        vertical-align: top;\n",
              "    }\n",
              "\n",
              "    .dataframe thead th {\n",
              "        text-align: right;\n",
              "    }\n",
              "</style>\n",
              "<table border=\"1\" class=\"dataframe\">\n",
              "  <thead>\n",
              "    <tr style=\"text-align: right;\">\n",
              "      <th></th>\n",
              "      <th>label</th>\n",
              "      <th>transcription</th>\n",
              "    </tr>\n",
              "  </thead>\n",
              "  <tbody>\n",
              "    <tr>\n",
              "      <th>0</th>\n",
              "      <td>1</td>\n",
              "      <td>we were very much younger then .</td>\n",
              "    </tr>\n",
              "    <tr>\n",
              "      <th>1</th>\n",
              "      <td>0</td>\n",
              "      <td>goddamn it augie don t ask me that . i hate it...</td>\n",
              "    </tr>\n",
              "    <tr>\n",
              "      <th>2</th>\n",
              "      <td>0</td>\n",
              "      <td>i would like to talk to your supervisor . obvi...</td>\n",
              "    </tr>\n",
              "    <tr>\n",
              "      <th>3</th>\n",
              "      <td>1</td>\n",
              "      <td>why didn t you let me know ?</td>\n",
              "    </tr>\n",
              "    <tr>\n",
              "      <th>4</th>\n",
              "      <td>0</td>\n",
              "      <td>i know .</td>\n",
              "    </tr>\n",
              "  </tbody>\n",
              "</table>\n",
              "</div>"
            ],
            "text/plain": [
              "   label                                      transcription\n",
              "0      1                   we were very much younger then .\n",
              "1      0  goddamn it augie don t ask me that . i hate it...\n",
              "2      0  i would like to talk to your supervisor . obvi...\n",
              "3      1                       why didn t you let me know ?\n",
              "4      0                                           i know ."
            ]
          },
          "metadata": {
            "tags": []
          },
          "execution_count": 14
        }
      ]
    },
    {
      "cell_type": "code",
      "metadata": {
        "colab": {
          "base_uri": "https://localhost:8080/",
          "height": 204
        },
        "id": "vLaCqMGBQ78S",
        "outputId": "c30e241e-ae62-431d-bf6c-3db8896b9f6e"
      },
      "source": [
        "new_whole_ds = pd.read_csv('/content/drive/MyDrive/DepresionDetection/full_augmented_text.csv')\n",
        "new_whole_ds.head()"
      ],
      "execution_count": 36,
      "outputs": [
        {
          "output_type": "execute_result",
          "data": {
            "text/html": [
              "<div>\n",
              "<style scoped>\n",
              "    .dataframe tbody tr th:only-of-type {\n",
              "        vertical-align: middle;\n",
              "    }\n",
              "\n",
              "    .dataframe tbody tr th {\n",
              "        vertical-align: top;\n",
              "    }\n",
              "\n",
              "    .dataframe thead th {\n",
              "        text-align: right;\n",
              "    }\n",
              "</style>\n",
              "<table border=\"1\" class=\"dataframe\">\n",
              "  <thead>\n",
              "    <tr style=\"text-align: right;\">\n",
              "      <th></th>\n",
              "      <th>label</th>\n",
              "      <th>transcription</th>\n",
              "    </tr>\n",
              "  </thead>\n",
              "  <tbody>\n",
              "    <tr>\n",
              "      <th>0</th>\n",
              "      <td>0</td>\n",
              "      <td>goddamn it augie don t ask me that . i hate it...</td>\n",
              "    </tr>\n",
              "    <tr>\n",
              "      <th>1</th>\n",
              "      <td>0</td>\n",
              "      <td>i would like to talk to your supervisor . obvi...</td>\n",
              "    </tr>\n",
              "    <tr>\n",
              "      <th>2</th>\n",
              "      <td>0</td>\n",
              "      <td>i know .</td>\n",
              "    </tr>\n",
              "    <tr>\n",
              "      <th>3</th>\n",
              "      <td>0</td>\n",
              "      <td>you never did .</td>\n",
              "    </tr>\n",
              "    <tr>\n",
              "      <th>4</th>\n",
              "      <td>0</td>\n",
              "      <td>to hell with that !</td>\n",
              "    </tr>\n",
              "  </tbody>\n",
              "</table>\n",
              "</div>"
            ],
            "text/plain": [
              "   label                                      transcription\n",
              "0      0  goddamn it augie don t ask me that . i hate it...\n",
              "1      0  i would like to talk to your supervisor . obvi...\n",
              "2      0                                           i know .\n",
              "3      0                                    you never did .\n",
              "4      0                                to hell with that !"
            ]
          },
          "metadata": {
            "tags": []
          },
          "execution_count": 36
        }
      ]
    },
    {
      "cell_type": "markdown",
      "metadata": {
        "id": "7nNuRvuxydeq"
      },
      "source": [
        "Distribución de los datos post data Agumentation. "
      ]
    },
    {
      "cell_type": "code",
      "metadata": {
        "colab": {
          "base_uri": "https://localhost:8080/",
          "height": 665
        },
        "id": "xQUYGuVFxCAx",
        "outputId": "11324f3b-f5b7-4400-c134-a26ae675d096"
      },
      "source": [
        "plot_data(new_whole_ds.label, 4, \"Condensed emotions\", \"Positive: exc, hap, sur. // Negative: ang, sad, fru, fear\", \"Count\")"
      ],
      "execution_count": 37,
      "outputs": [
        {
          "output_type": "display_data",
          "data": {
            "image/png": "[encoded data removed]",
            "text/plain": [
              "<Figure size 1440x720 with 1 Axes>"
            ]
          },
          "metadata": {
            "tags": [],
            "needs_background": "light"
          }
        }
      ]
    },
    {
      "cell_type": "markdown",
      "metadata": {
        "id": "s-zcVMhckGBA"
      },
      "source": [
        "Aquí hacemos la división para los datasets, obteniendo un test de entrenamiento y uno de prueba. Los archivos correspondientes a cada set y su clase son guardados en la carpeta con el tipo de set ('train' o 'test') y la clase de los datos para cada set ('0' para negativos, '1' para positivos). "
      ]
    },
    {
      "cell_type": "code",
      "metadata": {
        "id": "AB2bi2Iqha35",
        "colab": {
          "base_uri": "https://localhost:8080/"
        },
        "outputId": "8ae9d16e-4b06-4d85-a283-76ec60b4a25f"
      },
      "source": [
        "sentences = new_whole_ds.transcription.values\n",
        "labels = new_whole_ds.label.values\n",
        "\n",
        "from sklearn.model_selection import train_test_split\n",
        "\n",
        "# Usamos 90% para entrenamiento y 10% para testing.\n",
        "train_inputs, test_inputs, train_labels, test_labels = train_test_split(sentences, labels, random_state=2018, test_size=0.1)\n",
        "\n",
        "# Listas para guardar los valores de las etiquetas. \n",
        "\n",
        "in_0_train = []\n",
        "in_1_train = []\n",
        "\n",
        "in_0_test = []\n",
        "in_1_test = []\n",
        "\n",
        "print(\"Número de datos en Dataset de entrenamiento:\")\n",
        "print(len(train_labels))\n",
        "print(\"Número de datos en Dataset de prueba.\")\n",
        "print(len(test_labels))\n",
        "\n",
        "# Procedemos a checar los valores de las etiquetas (Entrenamiento). \n",
        "for item in range(len(train_labels)):\n",
        "  if train_labels[item]== 0:\n",
        "    f = open(f\"/content/drive/MyDrive/DepresionDetection/AugDatasets_TF/train/0/{item}.txt\", \"w+\")\n",
        "    f.write(train_inputs[item])\n",
        "    f.close()\n",
        "  elif train_labels[item] == 1:\n",
        "    f = open(f\"/content/drive/MyDrive/DepresionDetection/AugDatasets_TF/train/1/{item}.txt\", \"w+\")\n",
        "    f.write(train_inputs[item])\n",
        "    f.close()\n",
        "\n",
        "# Procedemos a checar los valores de las etiquetas (Testing). \n",
        "for item in range(len(test_labels)):\n",
        "  if test_labels[item]== 0:\n",
        "    f = open(f\"/content/drive/MyDrive/DepresionDetection/AugDatasets_TF/test/0/{item}.txt\", \"w+\")\n",
        "    f.write(test_inputs[item])\n",
        "    f.close()\n",
        "  elif test_labels[item] == 1:\n",
        "    f = open(f\"/content/drive/MyDrive/DepresionDetection/AugDatasets_TF/test/1/{item}.txt\", \"w+\")\n",
        "    f.write(test_inputs[item])\n",
        "    f.close()\n",
        "\n",
        "\n",
        "    #train_inputs[item].to_numpy()\n",
        "    #np.savetxt(\"/content/drive/MyDrive/DS/train.txt\", numpy_array, fmt = \"%d\")\n",
        "\n"
      ],
      "execution_count": 38,
      "outputs": [
        {
          "output_type": "stream",
          "text": [
            "Número de datos en Dataset de entrenamiento:\n",
            "8100\n",
            "Número de datos en Dataset de prueba.\n",
            "900\n"
          ],
          "name": "stdout"
        }
      ]
    },
    {
      "cell_type": "code",
      "metadata": {
        "colab": {
          "base_uri": "https://localhost:8080/"
        },
        "id": "SkzdsPZLf7pY",
        "outputId": "c6440b6d-dbe1-4083-b7ab-07852c9598ca"
      },
      "source": [
        "AUTOTUNE = tf.data.AUTOTUNE\n",
        "batch_size = 32\n",
        "seed = 42\n",
        "\n",
        "raw_train_ds = tf.keras.preprocessing.text_dataset_from_directory(\n",
        "    '/content/drive/MyDrive/DepresionDetection/AugDatasets_TF/train',\n",
        "    batch_size=batch_size,\n",
        "    validation_split=0.2,\n",
        "    subset='training',\n",
        "    seed=seed)\n",
        "\n",
        "class_names = raw_train_ds.class_names\n",
        "train_ds = raw_train_ds.cache().prefetch(buffer_size=AUTOTUNE)\n",
        "\n",
        "val_ds = tf.keras.preprocessing.text_dataset_from_directory(\n",
        "    '/content/drive/MyDrive/DepresionDetection/AugDatasets_TF/train',\n",
        "    batch_size=batch_size,\n",
        "    validation_split=0.2,\n",
        "    subset='validation',\n",
        "    seed=seed)\n",
        "\n",
        "val_ds = val_ds.cache().prefetch(buffer_size=AUTOTUNE)\n",
        "\n",
        "test_ds = tf.keras.preprocessing.text_dataset_from_directory(\n",
        "    '/content/drive/MyDrive/DepresionDetection/AugDatasets_TF/test',\n",
        "    batch_size=batch_size)\n",
        "\n",
        "test_ds = test_ds.cache().prefetch(buffer_size=AUTOTUNE)"
      ],
      "execution_count": 39,
      "outputs": [
        {
          "output_type": "stream",
          "text": [
            "Found 8978 files belonging to 2 classes.\n",
            "Using 7183 files for training.\n",
            "Found 8978 files belonging to 2 classes.\n",
            "Using 1795 files for validation.\n",
            "Found 1112 files belonging to 2 classes.\n"
          ],
          "name": "stdout"
        }
      ]
    },
    {
      "cell_type": "markdown",
      "metadata": {
        "id": "d3IfvhFFcXFC"
      },
      "source": [
        "Después de realizar la separación de los datos originales, se procede a agarrar algunos al azahar para visualizar su clasificación. "
      ]
    },
    {
      "cell_type": "code",
      "metadata": {
        "id": "XsfXl2UcX55j",
        "colab": {
          "base_uri": "https://localhost:8080/"
        },
        "outputId": "d0d18d9c-8b06-4c8a-ddc6-160a49189fae"
      },
      "source": [
        "for text_batch, label_batch in train_ds.take(1):\n",
        "  for i in range(3):\n",
        "    print(f'Review: {text_batch.numpy()[i]}')\n",
        "    label = label_batch.numpy()[i]\n",
        "    print(f'Label : {label} ({class_names[label]})')"
      ],
      "execution_count": 40,
      "outputs": [
        {
          "output_type": "stream",
          "text": [
            "Review: b'who you always use your driver s license . i mean you re not coming to the d .m .v . if you re not over sixteen and that s when you get your driver s license so you re never gonna need it anyway .'\n",
            "Label : 0 (0)\n",
            "Review: b'well i got an idea . but what s the story ?'\n",
            "Label : 1 (1)\n",
            "Review: b'right i know like you it won t hurt i mean national champions last year wow you know'\n",
            "Label : 1 (1)\n"
          ],
          "name": "stdout"
        }
      ]
    },
    {
      "cell_type": "markdown",
      "metadata": {
        "id": "loYNGgfIyiSg"
      },
      "source": [
        "Escogimos el siguiente modelo de Bert para pre procesamiento: \n",
        "\n",
        "```bert_en_uncased_L-12_H-768_A-12/3``` \n",
        "\n",
        "Debido a que en el caso de este set de entrenamiento, las mayúsculas no son extremadamente importantes. \n",
        "\n",
        "\n"
      ]
    },
    {
      "cell_type": "code",
      "metadata": {
        "id": "5VK3xOR5p-ve"
      },
      "source": [
        "# Bert model and preprocessing to be used:\n",
        "tfhub_handle_encoder = 'https://tfhub.dev/tensorflow/bert_en_uncased_L-12_H-768_A-12/3' \n",
        "tfhub_handle_preprocess = 'https://tfhub.dev/tensorflow/bert_en_uncased_preprocess/3'"
      ],
      "execution_count": 41,
      "outputs": []
    },
    {
      "cell_type": "code",
      "metadata": {
        "id": "qKi0U3Azqd9w"
      },
      "source": [
        "bert_preprocess_model = hub.KerasLayer(tfhub_handle_preprocess)"
      ],
      "execution_count": 23,
      "outputs": []
    },
    {
      "cell_type": "markdown",
      "metadata": {
        "id": "9QaBQkF7t4nC"
      },
      "source": [
        "Ejemplo del uso del encoding con BERT. "
      ]
    },
    {
      "cell_type": "code",
      "metadata": {
        "colab": {
          "base_uri": "https://localhost:8080/"
        },
        "id": "1bbymuo_s9pO",
        "outputId": "d61e4d08-a77a-494d-acc8-4797490e4b23"
      },
      "source": [
        "text_test = ['I feel awful, I want this to end.']\n",
        "text_preprocessed = bert_preprocess_model(text_test)\n",
        "\n",
        "print(f'Keys       : {list(text_preprocessed.keys())}')\n",
        "print(f'Shape      : {text_preprocessed[\"input_word_ids\"].shape}')\n",
        "print(f'Word Ids   : {text_preprocessed[\"input_word_ids\"][0, :12]}')\n",
        "print(f'Input Mask : {text_preprocessed[\"input_mask\"][0, :12]}')\n",
        "print(f'Type Ids   : {text_preprocessed[\"input_type_ids\"][0, :12]}')"
      ],
      "execution_count": 42,
      "outputs": [
        {
          "output_type": "stream",
          "text": [
            "Keys       : ['input_word_ids', 'input_mask', 'input_type_ids']\n",
            "Shape      : (1, 128)\n",
            "Word Ids   : [ 101 1045 2514 9643 1010 1045 2215 2023 2000 2203 1012  102]\n",
            "Input Mask : [1 1 1 1 1 1 1 1 1 1 1 1]\n",
            "Type Ids   : [0 0 0 0 0 0 0 0 0 0 0 0]\n"
          ],
          "name": "stdout"
        }
      ]
    },
    {
      "cell_type": "markdown",
      "metadata": {
        "id": "Vc0Zdtb2uT-y"
      },
      "source": [
        "Comenzamos a usar el modelo. "
      ]
    },
    {
      "cell_type": "code",
      "metadata": {
        "id": "Kc4vzqBfuTYk"
      },
      "source": [
        "bert_model = hub.KerasLayer(tfhub_handle_encoder)"
      ],
      "execution_count": 43,
      "outputs": []
    },
    {
      "cell_type": "markdown",
      "metadata": {
        "id": "aQOmIUIgnY-3"
      },
      "source": [
        "3 Claves importantes son devueltas por los modelos BERT, las cuales podemos observar para comprobar su funcionamiento. \n",
        "\n",
        "*   pooled_output: representa cada secuencia de la entrada como una unidad. Su forma es  ```[batch_size, H] ```.\n",
        "\n",
        "\n",
        "*   sequence_output: representa cada uno de los tokens de entrada en el contexto. Su forma es ```[batch_size, seq_length, H] ```.\n",
        "*   encoder_outputs: son las actividades intermedias de los bloques L Transformer. ```outputs[\"encoder_outputs\"][i] ```. consta de un tensor de forma ```[batch_size, seq_length, 1024] ``` con las salidas del i-ésimo bloque Transformer, para ```0 <= i < L ```. El último valor de la lista es equivalente a ```sequence_output```.\n",
        "\n",
        "En el proceso de fine tuning, se utiliza la matriz ```pooled_output```.\n",
        "\n"
      ]
    },
    {
      "cell_type": "code",
      "metadata": {
        "colab": {
          "base_uri": "https://localhost:8080/"
        },
        "id": "MZPj_kELucIK",
        "outputId": "4618ba31-46de-4906-ec84-50b9c7608da8"
      },
      "source": [
        "bert_results = bert_model(text_preprocessed)\n",
        "\n",
        "print(f'Loaded BERT: {tfhub_handle_encoder}')\n",
        "print(f'Pooled Outputs Shape:{bert_results[\"pooled_output\"].shape}')\n",
        "print(f'Pooled Outputs Values:{bert_results[\"pooled_output\"][0, :12]}')\n",
        "print(f'Sequence Outputs Shape:{bert_results[\"sequence_output\"].shape}')\n",
        "print(f'Sequence Outputs Values:{bert_results[\"sequence_output\"][0, :12]}')"
      ],
      "execution_count": 27,
      "outputs": [
        {
          "output_type": "stream",
          "text": [
            "Loaded BERT: https://tfhub.dev/tensorflow/bert_en_uncased_L-12_H-768_A-12/3\n",
            "Pooled Outputs Shape:(1, 768)\n",
            "Pooled Outputs Values:[-0.8104963  -0.30172354 -0.8092313   0.61915314  0.35248485 -0.16918992\n",
            "  0.5349199   0.21368246 -0.74848086 -0.9997207   0.03820153  0.95563823]\n",
            "Sequence Outputs Shape:(1, 128, 768)\n",
            "Sequence Outputs Values:[[ 0.06142963  0.49400946  0.00443552 ... -0.2966762   0.23155878\n",
            "   0.51421356]\n",
            " [ 0.31538638  0.6333135  -0.7207377  ... -0.06407636  0.77999246\n",
            "   0.7276976 ]\n",
            " [-0.251095    1.2244781   0.38318416 ... -0.06314597 -0.21555732\n",
            "   1.1825062 ]\n",
            " ...\n",
            " [ 0.13107018 -0.70477504 -0.09237924 ...  0.12566827 -0.20308088\n",
            "  -0.28534472]\n",
            " [ 0.42630446  0.18120922 -0.38756078 ... -0.39387578 -0.2241484\n",
            "  -0.54518753]\n",
            " [-0.29964474  0.23803145  0.11242712 ...  0.35597908 -0.24906395\n",
            "  -0.00709724]]\n"
          ],
          "name": "stdout"
        }
      ]
    },
    {
      "cell_type": "markdown",
      "metadata": {
        "id": "YOxWlw2LvUJK"
      },
      "source": [
        "Hacemos nuestra función para construir el modelo. "
      ]
    },
    {
      "cell_type": "code",
      "metadata": {
        "id": "0jsAT4YAvOq-"
      },
      "source": [
        "def build_classifier_model():\n",
        "  text_input = tf.keras.layers.Input(shape=(), dtype=tf.string, name='text')\n",
        "  preprocessing_layer = hub.KerasLayer(tfhub_handle_preprocess, name='preprocessing')\n",
        "  encoder_inputs = preprocessing_layer(text_input)\n",
        "  encoder = hub.KerasLayer(tfhub_handle_encoder, trainable=True, name='BERT_encoder')\n",
        "  outputs = encoder(encoder_inputs)\n",
        "  net = outputs['pooled_output']\n",
        "  net = tf.keras.layers.Dropout(0.1)(net)\n",
        "  net = tf.keras.layers.Dense(1, activation=None, name='classifier')(net)\n",
        "  return tf.keras.Model(text_input, net)"
      ],
      "execution_count": 44,
      "outputs": []
    },
    {
      "cell_type": "markdown",
      "metadata": {
        "id": "fwDtJKGPwDFK"
      },
      "source": [
        "Confirmamos que corra con la salida del modelo del preprocesamiento. "
      ]
    },
    {
      "cell_type": "code",
      "metadata": {
        "colab": {
          "base_uri": "https://localhost:8080/"
        },
        "id": "8EvfXZ0lwCvf",
        "outputId": "4a8b7565-269c-4170-960c-c1c41ffc9954"
      },
      "source": [
        "classifier_model = build_classifier_model()\n",
        "bert_raw_result = classifier_model(tf.constant(text_test))\n",
        "print(tf.sigmoid(bert_raw_result))"
      ],
      "execution_count": 45,
      "outputs": [
        {
          "output_type": "stream",
          "text": [
            "tf.Tensor([[0.3676924]], shape=(1, 1), dtype=float32)\n"
          ],
          "name": "stdout"
        }
      ]
    },
    {
      "cell_type": "markdown",
      "metadata": {
        "id": "N2kajDA7wNtN"
      },
      "source": [
        "Por el momento la salida es irrelevante, ya que no ha sido entrenado. "
      ]
    },
    {
      "cell_type": "markdown",
      "metadata": {
        "id": "-S5JKz9MwXi6"
      },
      "source": [
        "Visualizamos la estructura del modelo. "
      ]
    },
    {
      "cell_type": "code",
      "metadata": {
        "colab": {
          "base_uri": "https://localhost:8080/",
          "height": 466
        },
        "id": "Lva4EaqrwUTb",
        "outputId": "f256112b-2c48-4af2-ecbf-adc0fee152f0"
      },
      "source": [
        "tf.keras.utils.plot_model(classifier_model)"
      ],
      "execution_count": 20,
      "outputs": [
        {
          "output_type": "execute_result",
          "data": {
            "image/png": "[encoded data removed]",
            "text/plain": [
              "<IPython.core.display.Image object>"
            ]
          },
          "metadata": {
            "tags": []
          },
          "execution_count": 20
        }
      ]
    },
    {
      "cell_type": "markdown",
      "metadata": {
        "id": "aKVqvM1swm3K"
      },
      "source": [
        "## Entrenamiento"
      ]
    },
    {
      "cell_type": "markdown",
      "metadata": {
        "id": "f5MScRCMwrzn"
      },
      "source": [
        "### Función de costo. \n",
        "Debido a que es un problema de clasificación y trabajamos con clases binarias, utilizaremos \n",
        "```losses.BinaryCrossentropy```.\n",
        "\n"
      ]
    },
    {
      "cell_type": "code",
      "metadata": {
        "id": "LgKQ2GM-xC7f"
      },
      "source": [
        "loss = tf.keras.losses.BinaryCrossentropy(from_logits=True)\n",
        "metrics = tf.metrics.BinaryAccuracy()"
      ],
      "execution_count": 46,
      "outputs": []
    },
    {
      "cell_type": "code",
      "metadata": {
        "id": "yjDnXVvPxU_Z"
      },
      "source": [
        "epochs = 5\n",
        "steps_per_epoch = tf.data.experimental.cardinality(train_ds).numpy()\n",
        "num_train_steps = steps_per_epoch * epochs\n",
        "num_warmup_steps = int(0.1*num_train_steps)\n",
        "\n",
        "init_lr = 3e-5\n",
        "optimizer = optimization.create_optimizer(init_lr=init_lr,\n",
        "                                          num_train_steps=num_train_steps,\n",
        "                                          num_warmup_steps=num_warmup_steps,\n",
        "                                          optimizer_type='adamw')"
      ],
      "execution_count": 47,
      "outputs": []
    },
    {
      "cell_type": "code",
      "metadata": {
        "id": "-LGIHoXm2SZk"
      },
      "source": [
        "classifier_model.compile(optimizer=optimizer,\n",
        "                         loss=loss,\n",
        "                         metrics=metrics)"
      ],
      "execution_count": 48,
      "outputs": []
    },
    {
      "cell_type": "code",
      "metadata": {
        "colab": {
          "base_uri": "https://localhost:8080/"
        },
        "id": "vlS1YgHPer5m",
        "outputId": "bb9f157f-4718-4099-e16e-60e46f3ee90e"
      },
      "source": [
        "print(f'Training model with {tfhub_handle_encoder}')\n",
        "history = classifier_model.fit(x=train_ds,\n",
        "                               validation_data=val_ds,\n",
        "                               epochs=epochs)"
      ],
      "execution_count": 49,
      "outputs": [
        {
          "output_type": "stream",
          "text": [
            "Training model with https://tfhub.dev/tensorflow/bert_en_uncased_L-12_H-768_A-12/3\n",
            "Epoch 1/5\n",
            "225/225 [==============================] - 237s 989ms/step - loss: 0.6129 - binary_accuracy: 0.6425 - val_loss: 0.5487 - val_binary_accuracy: 0.7460\n",
            "Epoch 2/5\n",
            "225/225 [==============================] - 212s 943ms/step - loss: 0.3986 - binary_accuracy: 0.8123 - val_loss: 0.5160 - val_binary_accuracy: 0.8017\n",
            "Epoch 3/5\n",
            "225/225 [==============================] - 212s 943ms/step - loss: 0.2557 - binary_accuracy: 0.8920 - val_loss: 0.5416 - val_binary_accuracy: 0.8061\n",
            "Epoch 4/5\n",
            "225/225 [==============================] - 212s 944ms/step - loss: 0.1885 - binary_accuracy: 0.9258 - val_loss: 0.5699 - val_binary_accuracy: 0.8089\n",
            "Epoch 5/5\n",
            "225/225 [==============================] - 212s 944ms/step - loss: 0.1452 - binary_accuracy: 0.9414 - val_loss: 0.6057 - val_binary_accuracy: 0.8178\n"
          ],
          "name": "stdout"
        }
      ]
    },
    {
      "cell_type": "code",
      "metadata": {
        "id": "2hoI-U5DoL7G",
        "colab": {
          "base_uri": "https://localhost:8080/"
        },
        "outputId": "7b371516-1232-44fa-b8bc-966a2ed8f4c0"
      },
      "source": [
        "loss, accuracy = classifier_model.evaluate(test_ds)\n",
        "\n",
        "print(f'Loss: {loss}')\n",
        "print(f'Accuracy: {accuracy}')"
      ],
      "execution_count": 50,
      "outputs": [
        {
          "output_type": "stream",
          "text": [
            "35/35 [==============================] - 46s 993ms/step - loss: 0.5553 - binary_accuracy: 0.8282\n",
            "Loss: 0.5553234815597534\n",
            "Accuracy: 0.8282374143600464\n"
          ],
          "name": "stdout"
        }
      ]
    },
    {
      "cell_type": "code",
      "metadata": {
        "id": "MZnl6KiooS2V",
        "colab": {
          "base_uri": "https://localhost:8080/",
          "height": 439
        },
        "outputId": "7d2994b6-cc79-4ec3-c2a5-b70cce4cc855"
      },
      "source": [
        "history_dict = history.history\n",
        "print(history_dict.keys())\n",
        "\n",
        "acc = history_dict['binary_accuracy']\n",
        "val_acc = history_dict['val_binary_accuracy']\n",
        "loss = history_dict['loss']\n",
        "val_loss = history_dict['val_loss']\n",
        "\n",
        "epochs = range(1, len(acc) + 1)\n",
        "fig = plt.figure(figsize=(10, 6))\n",
        "fig.tight_layout()\n",
        "\n",
        "plt.subplot(2, 1, 1)\n",
        "# \"bo\" is for \"blue dot\"\n",
        "plt.plot(epochs, loss, 'r', label='Training loss')\n",
        "# b is for \"solid blue line\"\n",
        "plt.plot(epochs, val_loss, 'b', label='Validation loss')\n",
        "plt.title('Training and validation loss')\n",
        "# plt.xlabel('Epochs')\n",
        "plt.ylabel('Loss')\n",
        "plt.legend()\n",
        "\n",
        "plt.subplot(2, 1, 2)\n",
        "plt.plot(epochs, acc, 'r', label='Training acc')\n",
        "plt.plot(epochs, val_acc, 'b', label='Validation acc')\n",
        "plt.title('Training and validation accuracy')\n",
        "plt.xlabel('Epochs')\n",
        "plt.ylabel('Accuracy')\n",
        "plt.legend(loc='lower right')\n"
      ],
      "execution_count": 52,
      "outputs": [
        {
          "output_type": "stream",
          "text": [
            "dict_keys(['loss', 'binary_accuracy', 'val_loss', 'val_binary_accuracy'])\n"
          ],
          "name": "stdout"
        },
        {
          "output_type": "execute_result",
          "data": {
            "text/plain": [
              "<matplotlib.legend.Legend at 0x7f8e68be9550>"
            ]
          },
          "metadata": {
            "tags": []
          },
          "execution_count": 52
        },
        {
          "output_type": "display_data",
          "data": {
            "image/png": "[encoded data removed]",
            "text/plain": [
              "<Figure size 720x432 with 2 Axes>"
            ]
          },
          "metadata": {
            "tags": [],
            "needs_background": "light"
          }
        }
      ]
    },
    {
      "cell_type": "code",
      "metadata": {
        "id": "j59Z5rNPiKSH"
      },
      "source": [
        "dataset_name = 'IEMOCAP_Dat_Aug_2'\n",
        "saved_model_path = '/content/drive/MyDrive/DepresionDetection/BertModel/{}_bert'.format(dataset_name.replace('/', '_'))\n",
        "\n"
      ],
      "execution_count": 53,
      "outputs": []
    },
    {
      "cell_type": "code",
      "metadata": {
        "id": "_53WL-0aHKVo",
        "colab": {
          "base_uri": "https://localhost:8080/"
        },
        "outputId": "72e84a61-d0e1-4701-9807-3b2dcee11c75"
      },
      "source": [
        "classifier_model.save(saved_model_path, include_optimizer=False)"
      ],
      "execution_count": 54,
      "outputs": [
        {
          "output_type": "stream",
          "text": [
            "WARNING:absl:Found untraced functions such as restored_function_body, restored_function_body, restored_function_body, restored_function_body, restored_function_body while saving (showing 5 of 910). These functions will not be directly callable after loading.\n"
          ],
          "name": "stderr"
        }
      ]
    },
    {
      "cell_type": "code",
      "metadata": {
        "id": "zY-VTQ-1ii2b"
      },
      "source": [
        "reloaded_model = tf.saved_model.load(saved_model_path)"
      ],
      "execution_count": 55,
      "outputs": []
    },
    {
      "cell_type": "markdown",
      "metadata": {
        "id": "loqt4c-BmtFL"
      },
      "source": [
        "En caso de querer entrenar el modelo de nuevo. La siguiente opción permite usar un modelo en memoria y un modelo preentrenado cargado desde una ruta especificada. (Para este caso, el modelo en memoria y el guardado son el mismo modelo).\n",
        "\n",
        "Se aprecian buenas predicciones en base a las oraciones introducidas. \n",
        "\n",
        "Entre más cercana a 0, más negativa la emoción y entre más cercana a 1, más positiva. "
      ]
    },
    {
      "cell_type": "code",
      "metadata": {
        "id": "8GtAD00DjWJl",
        "colab": {
          "base_uri": "https://localhost:8080/"
        },
        "outputId": "adbb089a-4bb5-4bad-95d9-47259963e976"
      },
      "source": [
        "def print_my_examples(inputs, results):\n",
        "  result_for_printing = \\\n",
        "    [f'input: {inputs[i]:<30} : score: {results[i][0]:.6f}'\n",
        "                         for i in range(len(inputs))]\n",
        "  print(*result_for_printing, sep='\\n')\n",
        "  print()\n",
        "\n",
        "\n",
        "examples = [\n",
        "    'I do not feel so good',  # this is the same sentence tried earlier\n",
        "    'I had a great day',\n",
        "    'I wish I were dead.',\n",
        "    'I cannot bear the pain anymore.',\n",
        "    'You make me really happy.'\n",
        "]\n",
        "\n",
        "reloaded_results = tf.sigmoid(reloaded_model(tf.constant(examples)))\n",
        "original_results = tf.sigmoid(classifier_model(tf.constant(examples)))\n",
        "\n",
        "print('Results from the saved model:')\n",
        "print_my_examples(examples, reloaded_results)\n",
        "print('Results from the model in memory:')\n",
        "print_my_examples(examples, original_results)"
      ],
      "execution_count": 58,
      "outputs": [
        {
          "output_type": "stream",
          "text": [
            "Results from the saved model:\n",
            "input: I do not feel so good          : score: 0.017642\n",
            "input: I had a great day              : score: 0.988528\n",
            "input: I wish I were dead.            : score: 0.010432\n",
            "input: I cannot bear the pain anymore. : score: 0.007843\n",
            "input: You make me really happy.      : score: 0.995693\n",
            "\n",
            "Results from the model in memory:\n",
            "input: I do not feel so good          : score: 0.017642\n",
            "input: I had a great day              : score: 0.988528\n",
            "input: I wish I were dead.            : score: 0.010432\n",
            "input: I cannot bear the pain anymore. : score: 0.007843\n",
            "input: You make me really happy.      : score: 0.995693\n",
            "\n"
          ],
          "name": "stdout"
        }
      ]
    }
  ]
}